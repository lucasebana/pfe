{
 "cells": [
  {
   "cell_type": "code",
   "execution_count": 1,
   "metadata": {},
   "outputs": [],
   "source": [
    "# https://github.com/ashish-gehani/SPADE/wiki/Reporting-provenance-using-JSON\n",
    "\n",
    "import json\n",
    "import networkx as nx\n",
    "from random import randrange"
   ]
  },
  {
   "cell_type": "code",
   "execution_count": 2,
   "metadata": {},
   "outputs": [],
   "source": [
    "data = []\n",
    "with open('audit/fork.audit.log') as f:\n",
    "    for line in f:\n",
    "        data.append(json.loads(line))\n"
   ]
  },
  {
   "cell_type": "code",
   "execution_count": 3,
   "metadata": {},
   "outputs": [],
   "source": [
    "G = nx.MultiDiGraph()\n",
    "Nodes = []\n",
    "Edges = []"
   ]
  },
  {
   "cell_type": "code",
   "execution_count": 4,
   "metadata": {},
   "outputs": [],
   "source": [
    "for i in range(len(data)):\n",
    "    if data[i][\"type\"] in [\"Entity\",\"Activity\",\"Agent\"]:\n",
    "        Nodes.append(data[i])\n",
    "    elif data[i][\"type\"] in [\"ActedOnBehalfOf\",\"WasInformedBy\",\"WasDerivedFrom\",\"WasAssociatedWith\",\"WasAttributedTo\",\"Used\",\"WasGeneratedBy\"]:\n",
    "        Edges.append(data[i])"
   ]
  },
  {
   "cell_type": "code",
   "execution_count": 8,
   "metadata": {},
   "outputs": [
    {
     "name": "stdout",
     "output_type": "stream",
     "text": [
      "{'object_id': '14456758339743800028', 'object_type': 'path', 'boot_id': 21, 'cf:machine_id': 'cf:1820573678', 'version': 0, 'cf:date': '2023:01:10T19:56:45', 'epoch': 2, 'pathname': '/home/provenance/examples/provenance/fork.exe'}\n",
      "{'object_id': '14456758339743800028', 'object_type': 'path', 'boot_id': 21, 'cf:machine_id': 'cf:1820573678', 'version': 0, 'cf:date': '2023:01:10T19:56:45', 'epoch': 2, 'pathname': '/home/provenance/examples/provenance/fork.exe'}\n",
      "{'object_id': '1556068075115928084', 'object_type': 'path', 'boot_id': 21, 'cf:machine_id': 'cf:1820573678', 'version': 0, 'cf:date': '2023:01:10T19:56:45', 'epoch': 2, 'pathname': '/home/provenance/examples/provenance/fichier'}\n",
      "{'object_id': '14456758339743800028', 'object_type': 'path', 'boot_id': 21, 'cf:machine_id': 'cf:1820573678', 'version': 0, 'cf:date': '2023:01:10T19:57:41', 'epoch': 2, 'pathname': '/home/provenance/examples/provenance/fork.exe'}\n",
      "{'object_id': '14456758339743800028', 'object_type': 'path', 'boot_id': 21, 'cf:machine_id': 'cf:1820573678', 'version': 0, 'cf:date': '2023:01:10T19:57:41', 'epoch': 2, 'pathname': '/home/provenance/examples/provenance/fork.exe'}\n"
     ]
    }
   ],
   "source": [
    "for i in range(len(data)):\n",
    "    try:\n",
    "        if \"path\" in data[i][\"annotations\"][\"object_type\"]:\n",
    "            print(data[i][\"annotations\"])\n",
    "    except:\n",
    "        pass"
   ]
  },
  {
   "cell_type": "code",
   "execution_count": null,
   "metadata": {},
   "outputs": [],
   "source": [
    "node_types = [\"unknown\",\"string\",\"task\",\"inode_unknown\",\"link\",\"file\",\"directory\",\"char\",\"block\",\"pipe\",\"socket\",\"msg\",\"shm\",\"address\",\"sb\",\"path\",\"disc_entity\",\"disc_activity\",\"disc_agent\",\"machine\",\"packet\",\"iattr\",\"xattr\",\"packet_content\",\"argv\",\"envp\",\"process_memory\"]\n"
   ]
  },
  {
   "cell_type": "code",
   "execution_count": null,
   "metadata": {},
   "outputs": [],
   "source": [
    "ObjectIds = []\n",
    "for i in range(len(Nodes)):\n",
    "    if(Nodes[i][\"annotations\"][\"object_id\"] not in ObjectIds):\n",
    "        ObjectIds.append(Nodes[i][\"annotations\"][\"object_id\"])"
   ]
  },
  {
   "cell_type": "code",
   "execution_count": null,
   "metadata": {},
   "outputs": [],
   "source": [
    "for i in range(len(Nodes)):\n",
    "    N = Nodes\n",
    "    NiA = Nodes[i][\"annotations\"]\n",
    "    '''\n",
    "    G.add_node(N[i][\"id\"],\n",
    "    label=NiA[\"object_type\"],\n",
    "    group=node_types.index(NiA[\"object_type\"]),\n",
    "    type=N[i][\"type\"],\n",
    "    objectid=NiA[\"object_id\"],\n",
    "    objecttype=NiA[\"object_type\"],\n",
    "    shape=\"box\")\n",
    "    '''\n",
    "    G.add_node(N[i][\"id\"],\n",
    "    label=NiA[\"object_type\"],\n",
    "    group=ObjectIds.index(NiA[\"object_id\"]),\n",
    "    type=N[i][\"type\"],\n",
    "    objectid=NiA[\"object_id\"],\n",
    "    objecttype=NiA[\"object_type\"],\n",
    "    shape=\"box\")\n",
    "\n",
    "\n"
   ]
  },
  {
   "cell_type": "code",
   "execution_count": null,
   "metadata": {},
   "outputs": [],
   "source": [
    "#G.nodes.get(0)\n",
    "#G.nodes[\"EAAAAAAAABQTzQnhPSW2rhQAAADuv4NsAQAAAAAAAAA=\"]"
   ]
  },
  {
   "cell_type": "code",
   "execution_count": null,
   "metadata": {},
   "outputs": [],
   "source": [
    "#[(Nodes[i][\"annotations\"][\"object_type\"],Nodes[i][\"annotations\"][\"object_id\"]) for i in range(len(Nodes))]\n",
    "for n in G.nodes:\n",
    "    #n.shape = \"box\"\n",
    "    pass"
   ]
  },
  {
   "cell_type": "code",
   "execution_count": null,
   "metadata": {},
   "outputs": [],
   "source": [
    "for i in range(len(Edges)):\n",
    "    G.add_edge(Edges[i][\"from\"],Edges[i][\"to\"],annotations=Edges[i][\"annotations\"],label=Edges[i][\"annotations\"][\"relation_type\"])"
   ]
  },
  {
   "cell_type": "code",
   "execution_count": null,
   "metadata": {},
   "outputs": [
    {
     "name": "stdout",
     "output_type": "stream",
     "text": [
      "Local cdn resources have problems on chrome/safari when used in jupyter-notebook. \n"
     ]
    },
    {
     "data": {
      "text/html": [
       "\n",
       "        <iframe\n",
       "            width=\"700px\"\n",
       "            height=\"700px\"\n",
       "            src=\"out.big.html\"\n",
       "            frameborder=\"0\"\n",
       "            allowfullscreen\n",
       "            \n",
       "        ></iframe>\n",
       "        "
      ],
      "text/plain": [
       "<IPython.lib.display.IFrame at 0x7f2ed38e00d0>"
      ]
     },
     "execution_count": 13,
     "metadata": {},
     "output_type": "execute_result"
    }
   ],
   "source": [
    "from pyvis import network as pvnet\n",
    "\n",
    "def plot_g_pyviz(G, name='out.big.html', height='700px', width='700px'):\n",
    "    g = G.copy() # some attributes added to nodes\n",
    "    net = pvnet.Network(notebook=True, directed=True, height=height, width=width,filter_menu=False)\n",
    "    opts = '''\n",
    "        var options = {\n",
    "          \"physics\": {\n",
    "            \"forceAtlas2Based\": {\n",
    "              \"gravitationalConstant\": -100,\n",
    "              \"centralGravity\": 0.11,\n",
    "              \"springLength\": 100,\n",
    "              \"springConstant\": 0.09,\n",
    "              \"avoidOverlap\": 1\n",
    "            },\n",
    "            \"minVelocity\": 0.75,\n",
    "            \"solver\": \"HierachicalRepulsion\",\n",
    "            \"timestep\": 0.22\n",
    "          }\n",
    "        }\n",
    "    '''\n",
    "\n",
    "    opts2 = '''\n",
    "        var options = {\n",
    "          \"physics\": {\n",
    "            \"forceAtlas2Based\": {\n",
    "              \"gravitationalConstant\": -100,\n",
    "              \"centralGravity\": 0.11,\n",
    "              \"springLength\": 100,\n",
    "              \"springConstant\": 0.09,\n",
    "              \"avoidOverlap\": 1\n",
    "            },\n",
    "            \"minVelocity\": 1000,\n",
    "            \"solver\": \"BarnesHut\",\n",
    "            \"timestep\": 0.22\n",
    "          }\n",
    "        }\n",
    "    '''\n",
    "    \n",
    "\n",
    "    net.set_options(opts2)\n",
    "    # uncomment this to play with layout\n",
    "    # net.show_buttons(filter_=['physics'])\n",
    "    net.from_nx(g)\n",
    "    return net.show(name)\n",
    "\n",
    "plot_g_pyviz(G)"
   ]
  },
  {
   "cell_type": "code",
   "execution_count": null,
   "metadata": {},
   "outputs": [],
   "source": [
    "with open(\"big.fork2.cytoscape.json\", \"w\") as file1:\n",
    "    # Writing data to a file\n",
    "    #file1.write(nx.cytoscape_data(G))\n",
    "    json.dump(nx.cytoscape_data(G),file1)"
   ]
  },
  {
   "cell_type": "code",
   "execution_count": null,
   "metadata": {},
   "outputs": [
    {
     "ename": "NetworkXError",
     "evalue": "'cf:machine_id' is not a valid key",
     "output_type": "error",
     "traceback": [
      "\u001b[0;31m---------------------------------------------------------------------------\u001b[0m",
      "\u001b[0;31mNetworkXError\u001b[0m                             Traceback (most recent call last)",
      "Cell \u001b[0;32mIn[15], line 1\u001b[0m\n\u001b[0;32m----> 1\u001b[0m nx\u001b[39m.\u001b[39;49mwrite_gml(G,\u001b[39m\"\u001b[39;49m\u001b[39mbig.fork.gml\u001b[39;49m\u001b[39m\"\u001b[39;49m)\n\u001b[1;32m      2\u001b[0m G2 \u001b[39m=\u001b[39m nx\u001b[39m.\u001b[39mread_gml(\u001b[39m\"\u001b[39m\u001b[39mbig.fork.gml\u001b[39m\u001b[39m\"\u001b[39m)\n",
      "File \u001b[0;32m~/.local/lib/python3.10/site-packages/networkx/utils/decorators.py:845\u001b[0m, in \u001b[0;36margmap.__call__.<locals>.func\u001b[0;34m(_argmap__wrapper, *args, **kwargs)\u001b[0m\n\u001b[1;32m    844\u001b[0m \u001b[39mdef\u001b[39;00m \u001b[39mfunc\u001b[39m(\u001b[39m*\u001b[39margs, __wrapper\u001b[39m=\u001b[39m\u001b[39mNone\u001b[39;00m, \u001b[39m*\u001b[39m\u001b[39m*\u001b[39mkwargs):\n\u001b[0;32m--> 845\u001b[0m     \u001b[39mreturn\u001b[39;00m argmap\u001b[39m.\u001b[39;49m_lazy_compile(__wrapper)(\u001b[39m*\u001b[39;49margs, \u001b[39m*\u001b[39;49m\u001b[39m*\u001b[39;49mkwargs)\n",
      "File \u001b[0;32m<class 'networkx.utils.decorators.argmap'> compilation 5:5\u001b[0m, in \u001b[0;36margmap_write_gml_1\u001b[0;34m(G, path, stringizer)\u001b[0m\n\u001b[1;32m      3\u001b[0m \u001b[39mimport\u001b[39;00m \u001b[39mgzip\u001b[39;00m\n\u001b[1;32m      4\u001b[0m \u001b[39mimport\u001b[39;00m \u001b[39minspect\u001b[39;00m\n\u001b[0;32m----> 5\u001b[0m \u001b[39mimport\u001b[39;00m \u001b[39mitertools\u001b[39;00m\n\u001b[1;32m      6\u001b[0m \u001b[39mimport\u001b[39;00m \u001b[39mre\u001b[39;00m\n\u001b[1;32m      7\u001b[0m \u001b[39mfrom\u001b[39;00m \u001b[39mcollections\u001b[39;00m \u001b[39mimport\u001b[39;00m defaultdict\n",
      "File \u001b[0;32m~/.local/lib/python3.10/site-packages/networkx/readwrite/gml.py:855\u001b[0m, in \u001b[0;36mwrite_gml\u001b[0;34m(G, path, stringizer)\u001b[0m\n\u001b[1;32m    794\u001b[0m \u001b[39m@open_file\u001b[39m(\u001b[39m1\u001b[39m, mode\u001b[39m=\u001b[39m\u001b[39m\"\u001b[39m\u001b[39mwb\u001b[39m\u001b[39m\"\u001b[39m)\n\u001b[1;32m    795\u001b[0m \u001b[39mdef\u001b[39;00m \u001b[39mwrite_gml\u001b[39m(G, path, stringizer\u001b[39m=\u001b[39m\u001b[39mNone\u001b[39;00m):\n\u001b[1;32m    796\u001b[0m     \u001b[39m\"\"\"Write a graph `G` in GML format to the file or file handle `path`.\u001b[39;00m\n\u001b[1;32m    797\u001b[0m \n\u001b[1;32m    798\u001b[0m \u001b[39m    Parameters\u001b[39;00m\n\u001b[0;32m   (...)\u001b[0m\n\u001b[1;32m    853\u001b[0m \u001b[39m    >>> nx.write_gml(G, \"test.gml.gz\")\u001b[39;00m\n\u001b[1;32m    854\u001b[0m \u001b[39m    \"\"\"\u001b[39;00m\n\u001b[0;32m--> 855\u001b[0m     \u001b[39mfor\u001b[39;00m line \u001b[39min\u001b[39;00m generate_gml(G, stringizer):\n\u001b[1;32m    856\u001b[0m         path\u001b[39m.\u001b[39mwrite((line \u001b[39m+\u001b[39m \u001b[39m\"\u001b[39m\u001b[39m\\n\u001b[39;00m\u001b[39m\"\u001b[39m)\u001b[39m.\u001b[39mencode(\u001b[39m\"\u001b[39m\u001b[39mascii\u001b[39m\u001b[39m\"\u001b[39m))\n",
      "File \u001b[0;32m~/.local/lib/python3.10/site-packages/networkx/readwrite/gml.py:789\u001b[0m, in \u001b[0;36mgenerate_gml\u001b[0;34m(G, stringizer)\u001b[0m\n\u001b[1;32m    787\u001b[0m         \u001b[39myield from\u001b[39;00m stringize(\u001b[39m\"\u001b[39m\u001b[39mkey\u001b[39m\u001b[39m\"\u001b[39m, e[\u001b[39m2\u001b[39m], (), \u001b[39m\"\u001b[39m\u001b[39m    \u001b[39m\u001b[39m\"\u001b[39m)\n\u001b[1;32m    788\u001b[0m     \u001b[39mfor\u001b[39;00m attr, value \u001b[39min\u001b[39;00m e[\u001b[39m-\u001b[39m\u001b[39m1\u001b[39m]\u001b[39m.\u001b[39mitems():\n\u001b[0;32m--> 789\u001b[0m         \u001b[39myield from\u001b[39;00m stringize(attr, value, ignored_keys, \u001b[39m\"\u001b[39m\u001b[39m    \u001b[39m\u001b[39m\"\u001b[39m)\n\u001b[1;32m    790\u001b[0m     \u001b[39myield\u001b[39;00m \u001b[39m\"\u001b[39m\u001b[39m  ]\u001b[39m\u001b[39m\"\u001b[39m\n\u001b[1;32m    791\u001b[0m \u001b[39myield\u001b[39;00m \u001b[39m\"\u001b[39m\u001b[39m]\u001b[39m\u001b[39m\"\u001b[39m\n",
      "File \u001b[0;32m~/.local/lib/python3.10/site-packages/networkx/readwrite/gml.py:729\u001b[0m, in \u001b[0;36mgenerate_gml.<locals>.stringize\u001b[0;34m(key, value, ignored_keys, indent, in_list)\u001b[0m\n\u001b[1;32m    727\u001b[0m     next_indent \u001b[39m=\u001b[39m indent \u001b[39m+\u001b[39m \u001b[39m\"\u001b[39m\u001b[39m  \u001b[39m\u001b[39m\"\u001b[39m\n\u001b[1;32m    728\u001b[0m     \u001b[39mfor\u001b[39;00m key, value \u001b[39min\u001b[39;00m value\u001b[39m.\u001b[39mitems():\n\u001b[0;32m--> 729\u001b[0m         \u001b[39myield from\u001b[39;00m stringize(key, value, (), next_indent)\n\u001b[1;32m    730\u001b[0m     \u001b[39myield\u001b[39;00m indent \u001b[39m+\u001b[39m \u001b[39m\"\u001b[39m\u001b[39m]\u001b[39m\u001b[39m\"\u001b[39m\n\u001b[1;32m    731\u001b[0m \u001b[39melif\u001b[39;00m (\n\u001b[1;32m    732\u001b[0m     \u001b[39misinstance\u001b[39m(value, (\u001b[39mlist\u001b[39m, \u001b[39mtuple\u001b[39m))\n\u001b[1;32m    733\u001b[0m     \u001b[39mand\u001b[39;00m key \u001b[39m!=\u001b[39m \u001b[39m\"\u001b[39m\u001b[39mlabel\u001b[39m\u001b[39m\"\u001b[39m\n\u001b[1;32m    734\u001b[0m     \u001b[39mand\u001b[39;00m value\n\u001b[1;32m    735\u001b[0m     \u001b[39mand\u001b[39;00m \u001b[39mnot\u001b[39;00m in_list\n\u001b[1;32m    736\u001b[0m ):\n",
      "File \u001b[0;32m~/.local/lib/python3.10/site-packages/networkx/readwrite/gml.py:691\u001b[0m, in \u001b[0;36mgenerate_gml.<locals>.stringize\u001b[0;34m(key, value, ignored_keys, indent, in_list)\u001b[0m\n\u001b[1;32m    689\u001b[0m     \u001b[39mraise\u001b[39;00m NetworkXError(\u001b[39mf\u001b[39m\u001b[39m\"\u001b[39m\u001b[39m{\u001b[39;00mkey\u001b[39m!r}\u001b[39;00m\u001b[39m is not a string\u001b[39m\u001b[39m\"\u001b[39m)\n\u001b[1;32m    690\u001b[0m \u001b[39mif\u001b[39;00m \u001b[39mnot\u001b[39;00m valid_keys\u001b[39m.\u001b[39mmatch(key):\n\u001b[0;32m--> 691\u001b[0m     \u001b[39mraise\u001b[39;00m NetworkXError(\u001b[39mf\u001b[39m\u001b[39m\"\u001b[39m\u001b[39m{\u001b[39;00mkey\u001b[39m!r}\u001b[39;00m\u001b[39m is not a valid key\u001b[39m\u001b[39m\"\u001b[39m)\n\u001b[1;32m    692\u001b[0m \u001b[39mif\u001b[39;00m \u001b[39mnot\u001b[39;00m \u001b[39misinstance\u001b[39m(key, \u001b[39mstr\u001b[39m):\n\u001b[1;32m    693\u001b[0m     key \u001b[39m=\u001b[39m \u001b[39mstr\u001b[39m(key)\n",
      "\u001b[0;31mNetworkXError\u001b[0m: 'cf:machine_id' is not a valid key"
     ]
    }
   ],
   "source": [
    "nx.write_gml(G,\"big.fork.gml\")\n",
    "G2 = nx.read_gml(\"big.fork.gml\")"
   ]
  }
 ],
 "metadata": {
  "kernelspec": {
   "display_name": "Python 3 (ipykernel)",
   "language": "python",
   "name": "python3"
  },
  "language_info": {
   "codemirror_mode": {
    "name": "ipython",
    "version": 3
   },
   "file_extension": ".py",
   "mimetype": "text/x-python",
   "name": "python",
   "nbconvert_exporter": "python",
   "pygments_lexer": "ipython3",
   "version": "3.10.9"
  },
  "orig_nbformat": 4
 },
 "nbformat": 4,
 "nbformat_minor": 2
}
